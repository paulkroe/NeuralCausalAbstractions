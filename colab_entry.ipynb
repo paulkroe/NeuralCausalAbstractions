{
  "cells": [
    {
      "cell_type": "markdown",
      "metadata": {
        "id": "bicf1Ifz68r9"
      },
      "source": [
        "test"
      ]
    },
    {
      "cell_type": "code",
      "execution_count": null,
      "metadata": {
        "id": "KWC3nKWe68sB"
      },
      "outputs": [],
      "source": [
        "!git clone https://github.com/paulkroe/NeuralCausalAbstractions.git"
      ]
    },
    {
      "cell_type": "code",
      "source": [
        "%cd NeuralCausalAbstractions"
      ],
      "metadata": {
        "id": "qJG447qD7Hlb"
      },
      "execution_count": null,
      "outputs": []
    },
    {
      "cell_type": "code",
      "source": [
        "!pip install pytorch_lightning==2.2.0\n",
        "!pip install python-mnist\n",
        "!pip install tensorboard==2.14.0"
      ],
      "metadata": {
        "id": "u61DnFDS7Met"
      },
      "execution_count": null,
      "outputs": []
    },
    {
      "cell_type": "code",
      "source": [
        "!python -m src.main CIFAR sampling cifar gan --h-layers 3 --h-size 2 --scale-h-size --scale-u-size --batch-norm --gan-mode wgan --gan-arch biggan --repr auto_enc_conditional --rep-size 64 --rep-image-only --rep-h-layers 3 --rep-h-size 128 --img-size 32 --rep-no-decoder --rep-max-epochs=100 --rep-patience=100 --max-epochs=100 --patience=100 --gpu=0"
      ],
      "metadata": {
        "id": "fuZVZN6k7ZgN"
      },
      "execution_count": null,
      "outputs": []
    },
    {
      "cell_type": "code",
      "source": [
        "!mv out/CIFAR ."
      ],
      "metadata": {
        "id": "QaCtfCFR738p"
      },
      "execution_count": null,
      "outputs": []
    },
    {
      "cell_type": "code",
      "source": [
        "!python -m src.experiment.cifar_experiment --dir=/content/NeuralCausalAbstractions/CIFAR/ --num-samples=250"
      ],
      "metadata": {
        "id": "_QkEByg277S0"
      },
      "execution_count": null,
      "outputs": []
    }
  ],
  "metadata": {
    "language_info": {
      "name": "python"
    },
    "colab": {
      "provenance": []
    }
  },
  "nbformat": 4,
  "nbformat_minor": 0
}